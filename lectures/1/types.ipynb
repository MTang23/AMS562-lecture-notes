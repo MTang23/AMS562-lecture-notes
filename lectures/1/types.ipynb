{
 "cells": [
  {
   "cell_type": "markdown",
   "metadata": {},
   "source": [
    "### We start by defining built-in types"
   ]
  },
  {
   "cell_type": "code",
   "execution_count": 1,
   "metadata": {},
   "outputs": [],
   "source": [
    "// signed integers\n",
    "\n",
    "int i1;    // integer, on 64 machine, 32bits\n",
    "short i2;  // short integer, 16bits\n",
    "char i3;   // 1byte integer, or a character\n",
    "long i4;   // long integer, 64bits\n",
    "\n",
    "// unsiged integers\n",
    "\n",
    "unsigned ui1;        // 32bits\n",
    "unsigned short ui2;  // 16bits\n",
    "unsigned char ui3;   // 8bits\n",
    "unsigned long ui4;   // 64bits"
   ]
  },
  {
   "cell_type": "markdown",
   "metadata": {},
   "source": [
    "Once a variable has been defined, its name is occupied by the program. Reusing it is not allowed"
   ]
  },
  {
   "cell_type": "code",
   "execution_count": 2,
   "metadata": {},
   "outputs": [
    {
     "name": "stderr",
     "output_type": "stream",
     "text": [
      "input_line_8:2:8: error: redefinition of 'i1' with a different type: 'short' vs 'int'\n",
      " short i1;\n",
      "       ^\n",
      "input_line_7:3:5: note: previous definition is here\n",
      "int i1;    // integer, on 64 machine, 32bits\n",
      "    ^\n"
     ]
    },
    {
     "ename": "Interpreter Error",
     "evalue": "",
     "output_type": "error",
     "traceback": [
      "Interpreter Error: "
     ]
    }
   ],
   "source": [
    "short i1;"
   ]
  },
  {
   "cell_type": "code",
   "execution_count": 3,
   "metadata": {},
   "outputs": [],
   "source": [
    "// floating number types\n",
    "\n",
    "float fs;   // single precision\n",
    "double fd;  // double precision 64bits\n",
    "long double fl; // ext double, implementation depended"
   ]
  },
  {
   "cell_type": "markdown",
   "metadata": {},
   "source": [
    "### Best practice: initialize variables while you define them"
   ]
  },
  {
   "cell_type": "code",
   "execution_count": 4,
   "metadata": {},
   "outputs": [],
   "source": [
    "int a1 = 1;  // define a1, and initilize its value to 1\n",
    "double d2(-1.0); // define double d2, with initial value -1"
   ]
  },
  {
   "cell_type": "code",
   "execution_count": null,
   "metadata": {},
   "outputs": [],
   "source": []
  }
 ],
 "metadata": {
  "kernelspec": {
   "display_name": "C++11",
   "language": "C++11",
   "name": "xeus-cling-cpp11"
  },
  "language_info": {
   "codemirror_mode": "text/x-c++src",
   "file_extension": ".cpp",
   "mimetype": "text/x-c++src",
   "name": "c++",
   "version": "-std=c++11"
  },
  "latex_envs": {
   "LaTeX_envs_menu_present": true,
   "autoclose": false,
   "autocomplete": true,
   "bibliofile": "biblio.bib",
   "cite_by": "apalike",
   "current_citInitial": 1,
   "eqLabelWithNumbers": true,
   "eqNumInitial": 1,
   "hotkeys": {
    "equation": "Ctrl-E",
    "itemize": "Ctrl-I"
   },
   "labels_anchors": false,
   "latex_user_defs": false,
   "report_style_numbering": false,
   "user_envs_cfg": false
  }
 },
 "nbformat": 4,
 "nbformat_minor": 2
}
