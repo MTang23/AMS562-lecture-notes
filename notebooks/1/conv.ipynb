{
 "cells": [
  {
   "cell_type": "markdown",
   "metadata": {},
   "source": [
    "### Demo of type conversions"
   ]
  },
  {
   "cell_type": "code",
   "execution_count": 1,
   "metadata": {},
   "outputs": [
    {
     "name": "stderr",
     "output_type": "stream",
     "text": [
      "input_line_7:4:8: note: use '=' to turn this equality comparison into an assignment\n",
      "us_max == 65535\n",
      "       ^~\n",
      "       =\n"
     ]
    },
    {
     "data": {
      "text/plain": [
       "true"
      ]
     },
     "execution_count": 1,
     "metadata": {},
     "output_type": "execute_result"
    }
   ],
   "source": [
    "// between integers\n",
    "unsigned short us_max = -1;\n",
    "us_max == 65535"
   ]
  },
  {
   "cell_type": "code",
   "execution_count": 2,
   "metadata": {},
   "outputs": [
    {
     "name": "stderr",
     "output_type": "stream",
     "text": [
      "input_line_11:5:7: note: use '=' to turn this equality comparison into an assignment\n",
      "c_min == -128\n",
      "      ^~\n",
      "      =\n",
      "input_line_11:4:14: warning: implicit conversion from 'int' to 'char' changes value from 128 to -128 [-Wconstant-conversion]\n",
      "char c_min = 128;\n",
      "     ~~~~~   ^~~\n"
     ]
    },
    {
     "data": {
      "text/plain": [
       "true"
      ]
     },
     "execution_count": 2,
     "metadata": {},
     "output_type": "execute_result"
    }
   ],
   "source": [
    "// recall cahr max is 127, min -128\n",
    "// convert int 128 to char\n",
    "char c_min = 128;\n",
    "c_min == -128"
   ]
  },
  {
   "cell_type": "code",
   "execution_count": 3,
   "metadata": {},
   "outputs": [
    {
     "name": "stderr",
     "output_type": "stream",
     "text": [
      "input_line_13:3:9: warning: implicit conversion from 'double' to 'int' changes value from 1.2 to 1 [-Wliteral-conversion]\n",
      "int a = 1.2;\n",
      "    ~   ^~~\n",
      "input_line_13:4:3: note: use '=' to turn this equality comparison into an assignment\n",
      "a == 1\n",
      "  ^~\n",
      "  =\n"
     ]
    },
    {
     "data": {
      "text/plain": [
       "true"
      ]
     },
     "execution_count": 3,
     "metadata": {},
     "output_type": "execute_result"
    }
   ],
   "source": [
    "// from floating to ints\n",
    "int a = 1.2;\n",
    "a == 1"
   ]
  },
  {
   "cell_type": "code",
   "execution_count": 4,
   "metadata": {},
   "outputs": [
    {
     "name": "stderr",
     "output_type": "stream",
     "text": [
      "input_line_15:2:12: warning: implicit conversion from 'double' to 'short' changes value from -1.5 to -1 [-Wliteral-conversion]\n",
      " short b = -1.5;\n",
      "       ~   ^~~~\n",
      "input_line_15:3:3: note: use '=' to turn this equality comparison into an assignment\n",
      "b == -1\n",
      "  ^~\n",
      "  =\n"
     ]
    },
    {
     "data": {
      "text/plain": [
       "true"
      ]
     },
     "execution_count": 4,
     "metadata": {},
     "output_type": "execute_result"
    }
   ],
   "source": [
    "short b = -1.5;\n",
    "b == -1"
   ]
  }
 ],
 "metadata": {
  "kernelspec": {
   "display_name": "C++11",
   "language": "C++11",
   "name": "xeus-cling-cpp11"
  },
  "language_info": {
   "codemirror_mode": "text/x-c++src",
   "file_extension": ".cpp",
   "mimetype": "text/x-c++src",
   "name": "c++",
   "version": "-std=c++11"
  },
  "latex_envs": {
   "LaTeX_envs_menu_present": true,
   "autoclose": false,
   "autocomplete": true,
   "bibliofile": "biblio.bib",
   "cite_by": "apalike",
   "current_citInitial": 1,
   "eqLabelWithNumbers": true,
   "eqNumInitial": 1,
   "hotkeys": {
    "equation": "Ctrl-E",
    "itemize": "Ctrl-I"
   },
   "labels_anchors": false,
   "latex_user_defs": false,
   "report_style_numbering": false,
   "user_envs_cfg": false
  }
 },
 "nbformat": 4,
 "nbformat_minor": 2
}
