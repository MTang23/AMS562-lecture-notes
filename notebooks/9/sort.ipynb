{
 "cells": [
  {
   "cell_type": "markdown",
   "metadata": {},
   "source": [
    "# Sort for fun! #"
   ]
  },
  {
   "cell_type": "code",
   "execution_count": 1,
   "metadata": {},
   "outputs": [],
   "source": [
    "#include <vector>\n",
    "#include <iostream>\n",
    "#include <algorithm>\n",
    "#include <string>"
   ]
  },
  {
   "cell_type": "code",
   "execution_count": 2,
   "metadata": {},
   "outputs": [],
   "source": [
    "#include <cstdlib>"
   ]
  },
  {
   "cell_type": "code",
   "execution_count": 3,
   "metadata": {},
   "outputs": [],
   "source": [
    "// just use rand to get some random values\n",
    "std::vector<int> v(10);\n",
    "for (auto &val:v) val = std::rand()%20; // use ranged-for"
   ]
  },
  {
   "cell_type": "code",
   "execution_count": 4,
   "metadata": {},
   "outputs": [
    {
     "data": {
      "text/plain": [
       "{ 17, 12, 8, 1, 15, 0, 7, 2, 2, 14 }"
      ]
     },
     "execution_count": 4,
     "metadata": {},
     "output_type": "execute_result"
    }
   ],
   "source": [
    "v"
   ]
  },
  {
   "cell_type": "code",
   "execution_count": 5,
   "metadata": {},
   "outputs": [],
   "source": [
    "std::sort(v.begin(), v.end());"
   ]
  },
  {
   "cell_type": "code",
   "execution_count": 6,
   "metadata": {},
   "outputs": [
    {
     "data": {
      "text/plain": [
       "{ 0, 1, 2, 2, 7, 8, 12, 14, 15, 17 }"
      ]
     },
     "execution_count": 6,
     "metadata": {},
     "output_type": "execute_result"
    }
   ],
   "source": [
    "v"
   ]
  },
  {
   "cell_type": "code",
   "execution_count": 9,
   "metadata": {},
   "outputs": [],
   "source": [
    "// for user data\n",
    "struct Student {\n",
    "    int id;\n",
    "    std::string name;\n",
    "    void swap(Student &other) {\n",
    "        std::swap(id, other.id);\n",
    "        std::swap(name, other.name);\n",
    "    }\n",
    "    // note that for jupyter, it seems like\n",
    "    // we need to use member function for\n",
    "    // operators\n",
    "    bool operator<(const Student &other) const {\n",
    "        return id<other.id;\n",
    "    }\n",
    "};\n"
   ]
  },
  {
   "cell_type": "code",
   "execution_count": 10,
   "metadata": {},
   "outputs": [],
   "source": [
    "// free version\n",
    "void swap(Student &l, Student &r) { l.swap(r); }"
   ]
  },
  {
   "cell_type": "code",
   "execution_count": 11,
   "metadata": {},
   "outputs": [],
   "source": [
    "// note that we can use {} to indicate raw struct\n",
    "std::vector<Student> stdts;\n",
    "stdts.push_back({2, \"Joe\"});"
   ]
  },
  {
   "cell_type": "code",
   "execution_count": 12,
   "metadata": {},
   "outputs": [],
   "source": [
    "stdts.push_back({1, \"Janne\"});\n",
    "stdts.push_back({3, \"Chow\"});"
   ]
  },
  {
   "cell_type": "code",
   "execution_count": 13,
   "metadata": {},
   "outputs": [
    {
     "name": "stdout",
     "output_type": "stream",
     "text": [
      "before sorting the student database, the list is\n",
      "name: Joe, id: 2\n",
      "name: Janne, id: 1\n",
      "name: Chow, id: 3\n"
     ]
    }
   ],
   "source": [
    "std::cout << \"before sorting the student database, the list is\\n\";\n",
    "for (const auto &stdt:stdts)\n",
    "    std::cout << \"name: \" << stdt.name\n",
    "    << \", id: \" << stdt.id << '\\n'; "
   ]
  },
  {
   "cell_type": "code",
   "execution_count": 14,
   "metadata": {},
   "outputs": [],
   "source": [
    "std::sort(stdts.begin(), stdts.end());"
   ]
  },
  {
   "cell_type": "code",
   "execution_count": 15,
   "metadata": {},
   "outputs": [
    {
     "name": "stdout",
     "output_type": "stream",
     "text": [
      "after sorting the student database, the list is\n",
      "name: Janne, id: 1\n",
      "name: Joe, id: 2\n",
      "name: Chow, id: 3\n"
     ]
    }
   ],
   "source": [
    "std::cout << \"after sorting the student database, the list is\\n\";\n",
    "for (const auto &stdt:stdts)\n",
    "    std::cout << \"name: \" << stdt.name\n",
    "    << \", id: \" << stdt.id << '\\n'; "
   ]
  }
 ],
 "metadata": {
  "kernelspec": {
   "display_name": "C++11",
   "language": "C++11",
   "name": "xeus-cling-cpp11"
  },
  "language_info": {
   "codemirror_mode": "text/x-c++src",
   "file_extension": ".cpp",
   "mimetype": "text/x-c++src",
   "name": "c++",
   "version": "-std=c++11"
  },
  "latex_envs": {
   "LaTeX_envs_menu_present": true,
   "autoclose": false,
   "autocomplete": true,
   "bibliofile": "biblio.bib",
   "cite_by": "apalike",
   "current_citInitial": 1,
   "eqLabelWithNumbers": true,
   "eqNumInitial": 1,
   "hotkeys": {
    "equation": "Ctrl-E",
    "itemize": "Ctrl-I"
   },
   "labels_anchors": false,
   "latex_user_defs": false,
   "report_style_numbering": false,
   "user_envs_cfg": false
  }
 },
 "nbformat": 4,
 "nbformat_minor": 2
}
