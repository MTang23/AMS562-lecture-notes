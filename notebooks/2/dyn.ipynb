{
 "cells": [
  {
   "cell_type": "markdown",
   "metadata": {},
   "source": [
    "## Understand Dynamic Memory in C++\n",
    "A demo showing dynamic memory allocation/deallocaiton"
   ]
  },
  {
   "cell_type": "code",
   "execution_count": null,
   "metadata": {},
   "outputs": [],
   "source": [
    "#include <iostream>"
   ]
  },
  {
   "cell_type": "code",
   "execution_count": null,
   "metadata": {},
   "outputs": [],
   "source": [
    "int *p = nullptr;"
   ]
  },
  {
   "cell_type": "code",
   "execution_count": null,
   "metadata": {},
   "outputs": [],
   "source": [
    "// we know this is wrong and will give seg fault!\n",
    "// *p = 1;\n",
    "// because we need first allocate the memory for p\n",
    "p = new int;"
   ]
  },
  {
   "cell_type": "code",
   "execution_count": null,
   "metadata": {},
   "outputs": [],
   "source": [
    "// now p has a proper memory space, we can\n",
    "// dereference it and assign values to it\n",
    "*p = 1;\n",
    "std::cout << *p << '\\n';"
   ]
  },
  {
   "cell_type": "code",
   "execution_count": null,
   "metadata": {},
   "outputs": [],
   "source": [
    "// similarly, if we have a pointer that points to another pointer,\n",
    "// we need first allocate a memory space for a pointer\n",
    "int **pp = nullptr;"
   ]
  },
  {
   "cell_type": "code",
   "execution_count": null,
   "metadata": {},
   "outputs": [],
   "source": [
    "// WRONG! pp is nullptr, we can either assign p's address to it\n",
    "// or allocate a space for int* and give it to pp\n",
    "// *pp = nullptr;\n",
    "pp = new int *;  // type is int*"
   ]
  },
  {
   "cell_type": "code",
   "execution_count": null,
   "metadata": {},
   "outputs": [],
   "source": [
    "// now, pp points to a valid int*\n",
    "*pp = p;"
   ]
  },
  {
   "cell_type": "code",
   "execution_count": null,
   "metadata": {},
   "outputs": [],
   "source": [
    "std::cout << *pp << '\\n';"
   ]
  },
  {
   "cell_type": "code",
   "execution_count": null,
   "metadata": {},
   "outputs": [],
   "source": [
    "// we can of course dynamically assign another int\n",
    "// to *pp\n",
    "*pp = new int;\n",
    "**pp= 2;"
   ]
  },
  {
   "cell_type": "code",
   "execution_count": null,
   "metadata": {},
   "outputs": [],
   "source": [
    "std::cout << **pp << '\\n';"
   ]
  },
  {
   "cell_type": "markdown",
   "metadata": {},
   "source": [
    "#### Important! Free the memory! Let's count how many ``new`` are used."
   ]
  },
  {
   "cell_type": "code",
   "execution_count": null,
   "metadata": {},
   "outputs": [],
   "source": [
    "// the first new is for p\n",
    "delete p;"
   ]
  },
  {
   "cell_type": "code",
   "execution_count": null,
   "metadata": {},
   "outputs": [],
   "source": [
    "// now for pp, things become tricky\n",
    "// we cannot delete pp, because *pp is also pointing\n",
    "// to some memory space in the heap that requires\n",
    "// clean up. Therefore, we first free *pp\n",
    "delete *pp;"
   ]
  },
  {
   "cell_type": "code",
   "execution_count": null,
   "metadata": {},
   "outputs": [],
   "source": [
    "// finally, don't forget pp is also dynamically\n",
    "// assigned with a int*\n",
    "delete pp;"
   ]
  },
  {
   "cell_type": "code",
   "execution_count": null,
   "metadata": {},
   "outputs": [],
   "source": [
    "// no leak!"
   ]
  },
  {
   "cell_type": "markdown",
   "metadata": {},
   "source": [
    "#### Working with dynamic arrays"
   ]
  },
  {
   "cell_type": "code",
   "execution_count": null,
   "metadata": {},
   "outputs": [],
   "source": [
    "double *data = new double [1000000u];"
   ]
  },
  {
   "cell_type": "code",
   "execution_count": null,
   "metadata": {},
   "outputs": [],
   "source": [
    "// now we have a contiguous memory spaces that are valid\n",
    "// to use\n",
    "data[0] = 1.0;\n",
    "data[1] = -1.0;\n",
    "std::cout << data[0] << ' ' << data[1] << '\\n';"
   ]
  },
  {
   "cell_type": "code",
   "execution_count": null,
   "metadata": {},
   "outputs": [],
   "source": [
    "// we can of course get the address of any of the the memory\n",
    "// spaces in data by address-of operator&\n",
    "double *ptr100 = &data[99];"
   ]
  },
  {
   "cell_type": "code",
   "execution_count": null,
   "metadata": {},
   "outputs": [],
   "source": [
    "// because we know data[99] is a properly allocated memory space\n",
    "// it's safe to deference ptr100 and assign values to it\n",
    "*ptr100 = 100;"
   ]
  },
  {
   "cell_type": "code",
   "execution_count": null,
   "metadata": {},
   "outputs": [],
   "source": [
    "std::cout << data[99] << '\\n';"
   ]
  },
  {
   "cell_type": "code",
   "execution_count": null,
   "metadata": {},
   "outputs": [],
   "source": [
    "// now, we are done with data, note that we should use delete[]\n",
    "// not delete!\n",
    "// delete data; // WRONG!\n",
    "delete [] data;"
   ]
  }
 ],
 "metadata": {
  "kernelspec": {
   "display_name": "C++11",
   "language": "C++11",
   "name": "xeus-cling-cpp11"
  },
  "language_info": {
   "codemirror_mode": "text/x-c++src",
   "file_extension": ".cpp",
   "mimetype": "text/x-c++src",
   "name": "c++",
   "version": "-std=c++11"
  }
 },
 "nbformat": 4,
 "nbformat_minor": 2
}
