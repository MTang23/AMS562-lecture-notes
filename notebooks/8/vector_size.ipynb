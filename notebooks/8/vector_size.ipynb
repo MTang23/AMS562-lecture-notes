{
 "cells": [
  {
   "cell_type": "markdown",
   "metadata": {},
   "source": [
    "# `vector` Size vs. Capacity #"
   ]
  },
  {
   "cell_type": "code",
   "execution_count": 1,
   "metadata": {},
   "outputs": [],
   "source": [
    "#include <vector>\n",
    "#include <iostream>"
   ]
  },
  {
   "cell_type": "markdown",
   "metadata": {},
   "source": [
    "**NOTE, We check the data address in order to tell if new memory is allocated or not**"
   ]
  },
  {
   "cell_type": "code",
   "execution_count": 2,
   "metadata": {},
   "outputs": [],
   "source": [
    "// helper function to check size and capa\n",
    "template<typename T>\n",
    "void query_sizes(const char *tag, const std::vector<T> &v) {\n",
    "    std::cout << \"vector \" << tag << \" has size \"\n",
    "        << v.size() << \" and capa \" << v.capacity();\n",
    "}"
   ]
  },
  {
   "cell_type": "code",
   "execution_count": 3,
   "metadata": {},
   "outputs": [],
   "source": [
    "// helper function to check the database addr\n",
    "template<typename T>\n",
    "void query_data_addr(const char *tag, const std::vector<T> &v) {\n",
    "    std::cout << \"vector \" << tag << \" currently locates at \"\n",
    "        << v.data();\n",
    "}"
   ]
  },
  {
   "cell_type": "code",
   "execution_count": 4,
   "metadata": {},
   "outputs": [
    {
     "name": "stdout",
     "output_type": "stream",
     "text": [
      "vector v1 has size 0 and capa 0"
     ]
    }
   ],
   "source": [
    "std::vector<int> v1;\n",
    "query_sizes(\"v1\", v1);"
   ]
  },
  {
   "cell_type": "code",
   "execution_count": 5,
   "metadata": {},
   "outputs": [],
   "source": [
    "// resize\n",
    "v1.resize(10);"
   ]
  },
  {
   "cell_type": "code",
   "execution_count": 6,
   "metadata": {},
   "outputs": [
    {
     "name": "stdout",
     "output_type": "stream",
     "text": [
      "vector v1 has size 10 and capa 10"
     ]
    }
   ],
   "source": [
    "query_sizes(\"v1\", v1);"
   ]
  },
  {
   "cell_type": "code",
   "execution_count": 7,
   "metadata": {},
   "outputs": [
    {
     "name": "stdout",
     "output_type": "stream",
     "text": [
      "vector v1 currently locates at 0x563e904752b0"
     ]
    }
   ],
   "source": [
    "query_data_addr(\"v1\", v1);"
   ]
  },
  {
   "cell_type": "code",
   "execution_count": 8,
   "metadata": {},
   "outputs": [],
   "source": [
    "// now push back a vector\n",
    "v1.push_back(1);"
   ]
  },
  {
   "cell_type": "code",
   "execution_count": 9,
   "metadata": {},
   "outputs": [
    {
     "name": "stdout",
     "output_type": "stream",
     "text": [
      "vector v1 has size 11 and capa 20"
     ]
    }
   ],
   "source": [
    "query_sizes(\"v1\", v1);"
   ]
  },
  {
   "cell_type": "code",
   "execution_count": 10,
   "metadata": {},
   "outputs": [
    {
     "name": "stdout",
     "output_type": "stream",
     "text": [
      "vector v1 currently locates at 0x563e908e8c80"
     ]
    }
   ],
   "source": [
    "// as you can see, STL turns to be smart\n",
    "// to allocate more\n",
    "// as we expected, the data address has changed, thsu\n",
    "// \"delete\" and \"new\" are used.\n",
    "query_data_addr(\"v1\", v1);"
   ]
  },
  {
   "cell_type": "code",
   "execution_count": 11,
   "metadata": {},
   "outputs": [],
   "source": [
    "// now with the capacity\n",
    "v1.push_back(1);"
   ]
  },
  {
   "cell_type": "code",
   "execution_count": 12,
   "metadata": {},
   "outputs": [
    {
     "name": "stdout",
     "output_type": "stream",
     "text": [
      "vector v1 has size 12 and capa 20"
     ]
    }
   ],
   "source": [
    "query_sizes(\"v1\", v1);"
   ]
  },
  {
   "cell_type": "code",
   "execution_count": 13,
   "metadata": {},
   "outputs": [
    {
     "name": "stdout",
     "output_type": "stream",
     "text": [
      "vector v1 currently locates at 0x563e908e8c80"
     ]
    }
   ],
   "source": [
    "// as you can see, the capacity doen't change\n",
    "// thus the memory should maintain the same\n",
    "query_data_addr(\"v1\", v1);"
   ]
  },
  {
   "cell_type": "code",
   "execution_count": 14,
   "metadata": {},
   "outputs": [],
   "source": [
    "// if we resize no larger than the capacity, no memory\n",
    "// will be allocated\n",
    "v1.resize(20);"
   ]
  },
  {
   "cell_type": "code",
   "execution_count": 15,
   "metadata": {},
   "outputs": [
    {
     "name": "stdout",
     "output_type": "stream",
     "text": [
      "vector v1 currently locates at 0x563e908e8c80"
     ]
    }
   ],
   "source": [
    "query_data_addr(\"v1\", v1);"
   ]
  },
  {
   "cell_type": "markdown",
   "metadata": {},
   "source": [
    "## Understand How STL Handle Capacity ##\n",
    "The following part demos how STL handles capacity in vector, we compute the amortized cost.\n",
    "For each data size change from `n1` to `n2` (`n2` > `n1`), we will count a `n2` operations.\n",
    "This is dominated factor."
   ]
  },
  {
   "cell_type": "code",
   "execution_count": 16,
   "metadata": {},
   "outputs": [],
   "source": [
    "std::vector<int> v2;"
   ]
  },
  {
   "cell_type": "code",
   "execution_count": 17,
   "metadata": {},
   "outputs": [],
   "source": [
    "int counter = 0;\n",
    "std::vector<int>::size_type cur_capa = 0ul;"
   ]
  },
  {
   "cell_type": "code",
   "execution_count": 18,
   "metadata": {},
   "outputs": [],
   "source": [
    "std::vector<int>::size_type additional_ops = 0ul;"
   ]
  },
  {
   "cell_type": "code",
   "execution_count": 19,
   "metadata": {},
   "outputs": [],
   "source": [
    "for (int i = 0; i < 1000000; ++i) {\n",
    "    v2.push_back(i);\n",
    "    if (v2.capacity() > cur_capa) {\n",
    "        // increment counter\n",
    "        ++counter;\n",
    "        cur_capa = v2.capacity();\n",
    "        additional_ops += cur_capa;\n",
    "    }\n",
    "}"
   ]
  },
  {
   "cell_type": "code",
   "execution_count": 20,
   "metadata": {},
   "outputs": [
    {
     "name": "stdout",
     "output_type": "stream",
     "text": [
      "with 1000000 push backs, we ended up with 21 memory allocation, with total operations 2097151, average is 2.09715"
     ]
    }
   ],
   "source": [
    "std::cout << \"with 1000000 push backs, we ended up with \"\n",
    "    << counter << \" memory allocation, with total operations \"\n",
    "    << additional_ops << \", average is \"\n",
    "    << additional_ops/1000000.0;"
   ]
  },
  {
   "cell_type": "code",
   "execution_count": 21,
   "metadata": {},
   "outputs": [],
   "source": [
    "// starting with a new vector\n",
    "std::vector<int> v3;\n",
    "counter = 0;\n",
    "cur_capa = additional_ops = 0ul;"
   ]
  },
  {
   "cell_type": "code",
   "execution_count": 22,
   "metadata": {},
   "outputs": [],
   "source": [
    "// 10 times larger\n",
    "for (int i = 0; i < 10000000; ++i) {\n",
    "    v3.push_back(i);\n",
    "    if (v3.capacity() > cur_capa) {\n",
    "        // increment counter\n",
    "        ++counter;\n",
    "        cur_capa = v3.capacity();\n",
    "        additional_ops += cur_capa;\n",
    "    }\n",
    "}"
   ]
  },
  {
   "cell_type": "code",
   "execution_count": 23,
   "metadata": {},
   "outputs": [
    {
     "name": "stdout",
     "output_type": "stream",
     "text": [
      "with 10000000 push backs, we ended up with 25 memory allocation, with total operations 33554431, average is 3.35544"
     ]
    }
   ],
   "source": [
    "std::cout << \"with 10000000 push backs, we ended up with \"\n",
    "    << counter << \" memory allocation, with total operations \"\n",
    "    << additional_ops << \", average is \"\n",
    "    << additional_ops/10000000.0;"
   ]
  },
  {
   "cell_type": "code",
   "execution_count": 24,
   "metadata": {},
   "outputs": [
    {
     "name": "stdout",
     "output_type": "stream",
     "text": [
      "after clear, vector v3 has size 0 and capa 16777216\n",
      "after shrinking, vector v3 has size 0 and capa 0"
     ]
    }
   ],
   "source": [
    "// NOTE that clear will not deallocate the vector\n",
    "// we need to use shrink_to_fit after clear\n",
    "v3.clear();\n",
    "std::cout << \"after clear, \";\n",
    "query_sizes(\"v3\", v3);\n",
    "v3.shrink_to_fit();\n",
    "std::cout << \"\\nafter shrinking, \";\n",
    "query_sizes(\"v3\", v3);"
   ]
  },
  {
   "cell_type": "code",
   "execution_count": 25,
   "metadata": {},
   "outputs": [
    {
     "name": "stdout",
     "output_type": "stream",
     "text": [
      "with 100000000 push backs, we ended up with 28 memory allocation, with total operations 268435455, average is 2.68435"
     ]
    }
   ],
   "source": [
    "counter = 0;\n",
    "cur_capa = additional_ops = 0ul;\n",
    "// another 10 times larger\n",
    "for (int i = 0; i < 100000000; ++i) {\n",
    "    v3.push_back(i);\n",
    "    if (v3.capacity() > cur_capa) {\n",
    "        // increment counter\n",
    "        ++counter;\n",
    "        cur_capa = v3.capacity();\n",
    "        additional_ops += cur_capa;\n",
    "    }\n",
    "}\n",
    "std::cout << \"with 100000000 push backs, we ended up with \"\n",
    "    << counter << \" memory allocation, with total operations \"\n",
    "    << additional_ops << \", average is \"\n",
    "    << additional_ops/100000000.0;"
   ]
  }
 ],
 "metadata": {
  "kernelspec": {
   "display_name": "C++11",
   "language": "C++11",
   "name": "xeus-cling-cpp11"
  },
  "language_info": {
   "codemirror_mode": "text/x-c++src",
   "file_extension": ".cpp",
   "mimetype": "text/x-c++src",
   "name": "c++",
   "version": "-std=c++11"
  },
  "latex_envs": {
   "LaTeX_envs_menu_present": true,
   "autoclose": false,
   "autocomplete": true,
   "bibliofile": "biblio.bib",
   "cite_by": "apalike",
   "current_citInitial": 1,
   "eqLabelWithNumbers": true,
   "eqNumInitial": 1,
   "hotkeys": {
    "equation": "Ctrl-E",
    "itemize": "Ctrl-I"
   },
   "labels_anchors": false,
   "latex_user_defs": false,
   "report_style_numbering": false,
   "user_envs_cfg": false
  }
 },
 "nbformat": 4,
 "nbformat_minor": 2
}
