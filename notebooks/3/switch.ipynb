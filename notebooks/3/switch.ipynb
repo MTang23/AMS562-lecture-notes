{
 "cells": [
  {
   "cell_type": "markdown",
   "metadata": {},
   "source": [
    "# Understanding `switch`"
   ]
  },
  {
   "cell_type": "code",
   "execution_count": null,
   "metadata": {},
   "outputs": [],
   "source": [
    "// switch without break\n",
    "int N = 1;\n",
    "int counter = 0;"
   ]
  },
  {
   "cell_type": "code",
   "execution_count": null,
   "metadata": {},
   "outputs": [],
   "source": [
    "#include <iostream>"
   ]
  },
  {
   "cell_type": "code",
   "execution_count": null,
   "metadata": {},
   "outputs": [],
   "source": [
    "switch (N) {\n",
    "    case 0:\n",
    "        ++counter;\n",
    "    case 1:\n",
    "        ++counter;\n",
    "    case 2:\n",
    "        ++counter;\n",
    "    case 3:\n",
    "        ++counter;\n",
    "    case 4:\n",
    "        ++counter;\n",
    "        break;\n",
    "}"
   ]
  },
  {
   "cell_type": "code",
   "execution_count": null,
   "metadata": {},
   "outputs": [],
   "source": [
    "std::cout << \"after non breaking switch, counter=\" << counter;"
   ]
  },
  {
   "cell_type": "code",
   "execution_count": null,
   "metadata": {},
   "outputs": [],
   "source": [
    "counter = 0;"
   ]
  },
  {
   "cell_type": "code",
   "execution_count": null,
   "metadata": {},
   "outputs": [],
   "source": [
    "// break switch\n",
    "switch (N) {\n",
    "    case 0:\n",
    "        ++counter;\n",
    "        break;\n",
    "    case 1:\n",
    "        ++counter;\n",
    "        break;\n",
    "    case 2:\n",
    "        ++counter;\n",
    "        break;\n",
    "    case 3:\n",
    "        ++counter;\n",
    "        break;\n",
    "    case 4:\n",
    "        ++counter;\n",
    "        break;\n",
    "}"
   ]
  },
  {
   "cell_type": "code",
   "execution_count": null,
   "metadata": {},
   "outputs": [],
   "source": [
    "std::cout << \"after breaking switch, counter=\" << counter;"
   ]
  },
  {
   "cell_type": "markdown",
   "metadata": {},
   "source": [
    "### roll a die"
   ]
  },
  {
   "cell_type": "code",
   "execution_count": null,
   "metadata": {},
   "outputs": [],
   "source": [
    "// get the simple random number generator in cstdlib\n",
    "#include <cstdlib> // for std::rand, which generates a random integer"
   ]
  },
  {
   "cell_type": "code",
   "execution_count": null,
   "metadata": {},
   "outputs": [],
   "source": [
    "// you can keep running this block by shift-enter\n",
    "switch (std::rand() % 6 + 1) {\n",
    "    case 1:\n",
    "        std::cout << \"face1\";\n",
    "        break;\n",
    "    case 2:\n",
    "        std::cout << \"face2\";\n",
    "        break;\n",
    "    case 3:\n",
    "        std::cout << \"face3\";\n",
    "        break;\n",
    "    case 4:\n",
    "        std::cout << \"face4\";\n",
    "        break;\n",
    "    case 5:\n",
    "        std::cout << \"face4\";\n",
    "        break;\n",
    "    case 6:\n",
    "        std::cout << \"face6\";\n",
    "        break;\n",
    "}"
   ]
  }
 ],
 "metadata": {
  "kernelspec": {
   "display_name": "C++11",
   "language": "C++11",
   "name": "xeus-cling-cpp11"
  },
  "language_info": {
   "codemirror_mode": "text/x-c++src",
   "file_extension": ".cpp",
   "mimetype": "text/x-c++src",
   "name": "c++",
   "version": "-std=c++11"
  }
 },
 "nbformat": 4,
 "nbformat_minor": 2
}
