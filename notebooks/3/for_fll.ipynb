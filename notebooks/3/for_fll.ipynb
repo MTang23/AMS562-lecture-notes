{
 "cells": [
  {
   "cell_type": "markdown",
   "metadata": {},
   "source": [
    "# Forward Linked List"
   ]
  },
  {
   "cell_type": "code",
   "execution_count": null,
   "metadata": {},
   "outputs": [],
   "source": [
    "#include <iostream>"
   ]
  },
  {
   "cell_type": "code",
   "execution_count": null,
   "metadata": {},
   "outputs": [],
   "source": [
    "struct Node {\n",
    "    int tag;\n",
    "    Node *next;  // pointer to next position\n",
    "};"
   ]
  },
  {
   "cell_type": "code",
   "execution_count": null,
   "metadata": {},
   "outputs": [],
   "source": [
    "// all linked lists have their head node\n",
    "Node *head = new Node; // construct our head node"
   ]
  },
  {
   "cell_type": "code",
   "execution_count": null,
   "metadata": {},
   "outputs": [],
   "source": [
    "head->tag = 0; // set the tag to be 0"
   ]
  },
  {
   "cell_type": "code",
   "execution_count": null,
   "metadata": {},
   "outputs": [],
   "source": [
    "Node *curr = head; // create a current counter\n",
    "// we will construct 10 additional nodes\n",
    "for (int i = 0; i < 10; ++i) {\n",
    "    // first, allocate a new node to the \"next\" position\n",
    "    curr->next = new Node;\n",
    "    \n",
    "    // what is this?\n",
    "    // this is the operation that moves curr to its \"next\"\n",
    "    curr = curr->next;\n",
    "    \n",
    "    // now, curr points at a valid Node, we can\n",
    "    // access its data\n",
    "    curr->tag = i+1;\n",
    "}"
   ]
  },
  {
   "cell_type": "code",
   "execution_count": null,
   "metadata": {},
   "outputs": [],
   "source": [
    "// after the for loop, curr points at the last valid\n",
    "// node, whose next is not valid. We set it to nullptr\n",
    "// to indicate the end of the linked list\n",
    "curr->next = nullptr;"
   ]
  },
  {
   "cell_type": "code",
   "execution_count": null,
   "metadata": {},
   "outputs": [],
   "source": [
    "// use pointer in the for loop\n",
    "// ptr has local life span\n",
    "// as you can see, we start from the head Node\n",
    "// keep looping through the linked list until reach\n",
    "// the nullptr, which we know it's the indicator of\n",
    "// the end of the linked list\n",
    "for (Node *ptr = head; ptr != nullptr; ptr = ptr->next) {\n",
    "    std::cout << \"node:[\" << ptr->tag << \"]\\n\";\n",
    "}"
   ]
  },
  {
   "cell_type": "markdown",
   "metadata": {},
   "source": [
    "Insert a node between node[3] and node[4], be careful that we need to do a backup of node[4] before breaking the linkage between 3 and 4. Otherwise, we will lose node[4] and all nodes from 5 to 10."
   ]
  },
  {
   "cell_type": "code",
   "execution_count": null,
   "metadata": {},
   "outputs": [],
   "source": [
    "curr = head;\n",
    "// unlike array, finding a specific element requires doing a loop\n",
    "for (int i = 0; i < 3; ++i) {\n",
    "    curr = curr->next;\n",
    "}\n",
    "// curr = head->next->next->next; // not recommended"
   ]
  },
  {
   "cell_type": "code",
   "execution_count": null,
   "metadata": {},
   "outputs": [],
   "source": [
    "std::cout << \"curr points at node[\" << curr->tag << \"]\\n\";"
   ]
  },
  {
   "cell_type": "code",
   "execution_count": null,
   "metadata": {},
   "outputs": [],
   "source": [
    "{\n",
    "    // local scope\n",
    "    \n",
    "    // first, make a copy (pointer) of node 4\n",
    "    Node *bak = curr->next;\n",
    "    \n",
    "    // now, create a new Node and give the pointer\n",
    "    // to node3, the linkage between node3 and node4\n",
    "    // is broken.\n",
    "    curr->next = new Node;\n",
    "    \n",
    "    // move curr to its \"next\", which is the new added node\n",
    "    curr = curr->next;\n",
    "    \n",
    "    // tag it as node 11\n",
    "    curr->tag = 11;\n",
    "    \n",
    "    // now, link node11 with node4 by using the\n",
    "    // backup node4\n",
    "    curr->next = bak;\n",
    "}"
   ]
  },
  {
   "cell_type": "code",
   "execution_count": null,
   "metadata": {},
   "outputs": [],
   "source": [
    "// redo the printing\n",
    "for (Node *ptr = head; ptr != nullptr; ptr = ptr->next) {\n",
    "    std::cout << \"node:[\" << ptr->tag << \"]\\n\";\n",
    "}"
   ]
  },
  {
   "cell_type": "markdown",
   "metadata": {},
   "source": [
    "## finalizing the linked list"
   ]
  },
  {
   "cell_type": "code",
   "execution_count": null,
   "metadata": {},
   "outputs": [],
   "source": [
    "// first step, set curr to the head node\n",
    "curr = head;"
   ]
  },
  {
   "cell_type": "code",
   "execution_count": null,
   "metadata": {},
   "outputs": [],
   "source": [
    "// free memory\n",
    "for (int i =0; i < 12; ++i) {\n",
    "    // first move curr to its \"next\", which is a valid node\n",
    "    curr = curr->next;\n",
    "    std::cout << \"deleting node:[\" << head->tag << \"]\\n\";\n",
    "    \n",
    "    // we delete head\n",
    "    delete head;\n",
    "    \n",
    "    // head now is not valid, in order to delete it in next\n",
    "    // iteration, we need to move it\n",
    "    head = curr;\n",
    "}"
   ]
  }
 ],
 "metadata": {
  "kernelspec": {
   "display_name": "C++11",
   "language": "C++11",
   "name": "xeus-cling-cpp11"
  },
  "language_info": {
   "codemirror_mode": "text/x-c++src",
   "file_extension": ".cpp",
   "mimetype": "text/x-c++src",
   "name": "c++",
   "version": "-std=c++11"
  }
 },
 "nbformat": 4,
 "nbformat_minor": 2
}
