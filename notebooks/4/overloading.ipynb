{
 "cells": [
  {
   "cell_type": "markdown",
   "metadata": {},
   "source": [
    "# Function Overloading Demo #"
   ]
  },
  {
   "cell_type": "code",
   "execution_count": 1,
   "metadata": {},
   "outputs": [],
   "source": [
    "#include <iostream>"
   ]
  },
  {
   "cell_type": "code",
   "execution_count": 2,
   "metadata": {},
   "outputs": [],
   "source": [
    "double mean(const int n, const double *array) {\n",
    "    // sum up the value\n",
    "    double sum = 0.0;\n",
    "    for (int i = 0; i < n; ++i) {\n",
    "        sum += array[i];\n",
    "    }\n",
    "    if (n > 0) {\n",
    "        return sum/n;\n",
    "    }\n",
    "    return 0.0;\n",
    "}"
   ]
  },
  {
   "cell_type": "code",
   "execution_count": 3,
   "metadata": {},
   "outputs": [],
   "source": [
    "// float version\n",
    "float mean(const int n, const float *array) {\n",
    "    // sum up the value\n",
    "    float sum = 0.0f;\n",
    "    for (int i = 0; i < n; ++i) {\n",
    "        sum += array[i];\n",
    "    }\n",
    "    if (n > 0) {\n",
    "        return sum/n;\n",
    "    }\n",
    "    return 0.0f;\n",
    "}"
   ]
  },
  {
   "cell_type": "code",
   "execution_count": 4,
   "metadata": {},
   "outputs": [],
   "source": [
    "const double arrayd[3] = {1, 2 ,3};\n",
    "const float arrayf[3] = {-1, -2, -3};"
   ]
  },
  {
   "cell_type": "code",
   "execution_count": 5,
   "metadata": {},
   "outputs": [
    {
     "name": "stdout",
     "output_type": "stream",
     "text": [
      "mean of arrayd = 2"
     ]
    },
    {
     "data": {
      "text/plain": [
       "@0x560659553820"
      ]
     },
     "execution_count": 5,
     "metadata": {},
     "output_type": "execute_result"
    }
   ],
   "source": [
    "std::cout << \"mean of arrayd = \" << mean(3, arrayd); // convert C-array to pointer"
   ]
  },
  {
   "cell_type": "code",
   "execution_count": 6,
   "metadata": {},
   "outputs": [
    {
     "name": "stdout",
     "output_type": "stream",
     "text": [
      "mean of arrayf = -2"
     ]
    }
   ],
   "source": [
    "std::cout << \"mean of arrayf = \" << mean(3, arrayf);"
   ]
  },
  {
   "cell_type": "code",
   "execution_count": 7,
   "metadata": {},
   "outputs": [],
   "source": [
    "// a lightly more interesting demo"
   ]
  },
  {
   "cell_type": "code",
   "execution_count": 8,
   "metadata": {},
   "outputs": [],
   "source": [
    "// vector of size 2\n",
    "struct Vec2 {\n",
    "    double v[2];\n",
    "};"
   ]
  },
  {
   "cell_type": "code",
   "execution_count": 9,
   "metadata": {},
   "outputs": [],
   "source": [
    "// matrix of size 2by2\n",
    "struct Mat22 {\n",
    "    double v[2][2];\n",
    "};"
   ]
  },
  {
   "cell_type": "code",
   "execution_count": 10,
   "metadata": {},
   "outputs": [],
   "source": [
    "#include <cmath> // sqrt"
   ]
  },
  {
   "cell_type": "code",
   "execution_count": 11,
   "metadata": {},
   "outputs": [],
   "source": [
    "double nrm(const Vec2 &v) {\n",
    "    // compute the 2norm of a vector\n",
    "    return std::sqrt(v.v[0]*v.v[0]+v.v[1]*v.v[1]);\n",
    "}"
   ]
  },
  {
   "cell_type": "code",
   "execution_count": 12,
   "metadata": {},
   "outputs": [],
   "source": [
    "// compute the Frobenius norm of the 22 matrix\n",
    "double nrm(const Mat22 &m) {\n",
    "    double v = 0.0;\n",
    "    for (int i = 0; i < 2; ++i) {\n",
    "        for (int j = 0; j < 2; ++j) {\n",
    "            v += m.v[i][j]*m.v[i][j];\n",
    "        }\n",
    "    }\n",
    "    return std::sqrt(v);\n",
    "}"
   ]
  },
  {
   "cell_type": "code",
   "execution_count": 13,
   "metadata": {},
   "outputs": [],
   "source": [
    "// create a vector\n",
    "Vec2 v;\n",
    "v.v[0] = 1.0;\n",
    "v.v[1] = 2.0;"
   ]
  },
  {
   "cell_type": "code",
   "execution_count": 14,
   "metadata": {},
   "outputs": [
    {
     "name": "stdout",
     "output_type": "stream",
     "text": [
      "2norm of v =2.23607"
     ]
    }
   ],
   "source": [
    "std::cout << \"2norm of v =\" << nrm(v);"
   ]
  },
  {
   "cell_type": "code",
   "execution_count": 15,
   "metadata": {},
   "outputs": [],
   "source": [
    "// create a matrix\n",
    "Mat22 m;\n",
    "for (int i = 0; i < 2; ++i) {\n",
    "    for (int j = 0; j < 2; ++j) {\n",
    "        m.v[i][j] = i+j+100.0;\n",
    "    }\n",
    "}"
   ]
  },
  {
   "cell_type": "code",
   "execution_count": 16,
   "metadata": {},
   "outputs": [
    {
     "name": "stdout",
     "output_type": "stream",
     "text": [
      "Frobenius norm of m = 202.005"
     ]
    }
   ],
   "source": [
    "std::cout << \"Frobenius norm of m = \" << nrm(m);"
   ]
  }
 ],
 "metadata": {
  "kernelspec": {
   "display_name": "C++11",
   "language": "C++11",
   "name": "xeus-cling-cpp11"
  },
  "language_info": {
   "codemirror_mode": "text/x-c++src",
   "file_extension": ".cpp",
   "mimetype": "text/x-c++src",
   "name": "c++",
   "version": "-std=c++11"
  },
  "latex_envs": {
   "LaTeX_envs_menu_present": true,
   "autoclose": false,
   "autocomplete": true,
   "bibliofile": "biblio.bib",
   "cite_by": "apalike",
   "current_citInitial": 1,
   "eqLabelWithNumbers": true,
   "eqNumInitial": 1,
   "hotkeys": {
    "equation": "Ctrl-E",
    "itemize": "Ctrl-I"
   },
   "labels_anchors": false,
   "latex_user_defs": false,
   "report_style_numbering": false,
   "user_envs_cfg": false
  }
 },
 "nbformat": 4,
 "nbformat_minor": 2
}
