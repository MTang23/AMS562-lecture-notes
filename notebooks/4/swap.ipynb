{
 "cells": [
  {
   "cell_type": "markdown",
   "metadata": {},
   "source": [
    "# Understand Pass by Value with Swap #"
   ]
  },
  {
   "cell_type": "code",
   "execution_count": 1,
   "metadata": {},
   "outputs": [],
   "source": [
    "#include <iostream>"
   ]
  },
  {
   "cell_type": "code",
   "execution_count": 2,
   "metadata": {},
   "outputs": [],
   "source": [
    "// first version, the trivial one\n",
    "void Swap1(int a, int b) {\n",
    "    const int temp = a;\n",
    "    a = b;\n",
    "    b = temp;\n",
    "}"
   ]
  },
  {
   "cell_type": "code",
   "execution_count": 3,
   "metadata": {},
   "outputs": [],
   "source": [
    "// second version\n",
    "void Swap2(int *a, int *b) {\n",
    "    const int temp = *a;\n",
    "    *a = *b;\n",
    "    *b = temp;\n",
    "}"
   ]
  },
  {
   "cell_type": "code",
   "execution_count": 4,
   "metadata": {},
   "outputs": [],
   "source": [
    "// a printing function\n",
    "void printSwap() {\n",
    "    int lhs = 1, rhs = 2;\n",
    "    std::cout << \"before calling Swap1, lhs=\" << lhs << \", rhs=\" << rhs << \".\\n\";\n",
    "    Swap1(lhs, rhs);\n",
    "    std::cout << \"after calling Swap1, lhs=\" << lhs << \", rhs=\" << rhs << \".\\n\";\n",
    "    // reset\n",
    "    lhs = 1;\n",
    "    rhs = 2;\n",
    "    std::cout << \"before calling Swap2, lhs=\" << lhs << \", rhs=\" << rhs << \".\\n\";\n",
    "    Swap2(&lhs, &rhs); // pass memory addresses\n",
    "    std::cout << \"after calling Swap2, lhs=\" << lhs << \", rhs=\" << rhs << \".\\n\";\n",
    "}"
   ]
  },
  {
   "cell_type": "code",
   "execution_count": 5,
   "metadata": {},
   "outputs": [
    {
     "name": "stdout",
     "output_type": "stream",
     "text": [
      "before calling Swap1, lhs=1, rhs=2.\n",
      "after calling Swap1, lhs=1, rhs=2.\n",
      "before calling Swap2, lhs=1, rhs=2.\n",
      "after calling Swap2, lhs=2, rhs=1.\n"
     ]
    }
   ],
   "source": [
    "printSwap();"
   ]
  }
 ],
 "metadata": {
  "kernelspec": {
   "display_name": "C++11",
   "language": "C++11",
   "name": "xeus-cling-cpp11"
  },
  "language_info": {
   "codemirror_mode": "text/x-c++src",
   "file_extension": ".cpp",
   "mimetype": "text/x-c++src",
   "name": "c++",
   "version": "-std=c++11"
  }
 },
 "nbformat": 4,
 "nbformat_minor": 2
}
