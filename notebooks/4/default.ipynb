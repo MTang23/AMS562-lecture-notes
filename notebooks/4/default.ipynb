{
 "cells": [
  {
   "cell_type": "markdown",
   "metadata": {},
   "source": [
    "# Function w/ Default Arguments #\n",
    "This demo shows some simple examples of using default function arguments in `c++`."
   ]
  },
  {
   "cell_type": "code",
   "execution_count": 1,
   "metadata": {},
   "outputs": [],
   "source": [
    "#include <iostream>"
   ]
  },
  {
   "cell_type": "code",
   "execution_count": 2,
   "metadata": {},
   "outputs": [],
   "source": [
    "// we write a numericall differentiation calculator\n",
    "// with default h for any smooth and continuous\n",
    "// functions that are defined in R->R\n",
    "\n",
    "// we assume that function f is differentiable at\n",
    "// given point x\n",
    "\n",
    "// Calculator interface\n",
    "// inputs:\n",
    "//   f function defined in R->R\n",
    "//   x where to take f'\n",
    "//   h (optional) spacing, default is 1e-5\n",
    "// return:\n",
    "//   f'\n",
    "double diff(double (*f)(double), const double x, double h = 1e-5) {\n",
    "    // if h is <= 0.0, use default that is 1e-5\n",
    "    // note that h is copied locally thus we can\n",
    "    // directly use it\n",
    "    if (h <= 0.0) {\n",
    "        h = 1e-5;\n",
    "    }\n",
    "    \n",
    "    // center difference scheme\n",
    "    return (f(x+h)-f(x-h))/(2*h);\n",
    "}"
   ]
  },
  {
   "cell_type": "code",
   "execution_count": 3,
   "metadata": {},
   "outputs": [],
   "source": [
    "#include <cmath>"
   ]
  },
  {
   "cell_type": "code",
   "execution_count": 4,
   "metadata": {},
   "outputs": [
    {
     "name": "stdout",
     "output_type": "stream",
     "text": [
      "sin'(1)=0.540302"
     ]
    }
   ],
   "source": [
    "std::cout << \"sin\\'(1)=\" << diff(std::sin, 1.0);"
   ]
  },
  {
   "cell_type": "code",
   "execution_count": 5,
   "metadata": {},
   "outputs": [
    {
     "name": "stdout",
     "output_type": "stream",
     "text": [
      "ln'(2)=0.5"
     ]
    }
   ],
   "source": [
    "std::cout << \"ln\\'(2)=\" << diff(std::log, 2);"
   ]
  },
  {
   "cell_type": "code",
   "execution_count": 6,
   "metadata": {},
   "outputs": [
    {
     "name": "stdout",
     "output_type": "stream",
     "text": [
      "exp'(3)=20.0855"
     ]
    }
   ],
   "source": [
    "std::cout << \"exp\\'(3)=\" << diff(std::exp, 3.0, 1e-6);"
   ]
  }
 ],
 "metadata": {
  "kernelspec": {
   "display_name": "C++11",
   "language": "C++11",
   "name": "xeus-cling-cpp11"
  },
  "language_info": {
   "codemirror_mode": "text/x-c++src",
   "file_extension": ".cpp",
   "mimetype": "text/x-c++src",
   "name": "c++",
   "version": "-std=c++11"
  },
  "latex_envs": {
   "LaTeX_envs_menu_present": true,
   "autoclose": false,
   "autocomplete": true,
   "bibliofile": "biblio.bib",
   "cite_by": "apalike",
   "current_citInitial": 1,
   "eqLabelWithNumbers": true,
   "eqNumInitial": 1,
   "hotkeys": {
    "equation": "Ctrl-E",
    "itemize": "Ctrl-I"
   },
   "labels_anchors": false,
   "latex_user_defs": false,
   "report_style_numbering": false,
   "user_envs_cfg": false
  }
 },
 "nbformat": 4,
 "nbformat_minor": 2
}
