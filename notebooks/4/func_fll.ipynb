{
 "cells": [
  {
   "cell_type": "markdown",
   "metadata": {},
   "source": [
    "# Forward Linked List with Functions #"
   ]
  },
  {
   "cell_type": "code",
   "execution_count": null,
   "metadata": {},
   "outputs": [],
   "source": [
    "#include <iostream>"
   ]
  },
  {
   "cell_type": "code",
   "execution_count": null,
   "metadata": {},
   "outputs": [],
   "source": [
    "struct Node {\n",
    "    int tag;\n",
    "    Node *next;  // pointer to next position\n",
    "};"
   ]
  },
  {
   "cell_type": "code",
   "execution_count": null,
   "metadata": {},
   "outputs": [],
   "source": [
    "// function 1\n",
    "// Create a node\n",
    "// This is the core function for this demo\n",
    "// where the tag is the \"data\" value\n",
    "Node *newNode(int tag) {\n",
    "    Node *node = new Node;\n",
    "    // assume allocation successes. In practice, you\n",
    "    // should check\n",
    "    node->tag = tag;\n",
    "    return node;\n",
    "}"
   ]
  },
  {
   "cell_type": "code",
   "execution_count": null,
   "metadata": {},
   "outputs": [],
   "source": [
    "// function 2\n",
    "// create a forward linked list\n",
    "// head is the head node\n",
    "// N is the number of nodes\n",
    "// start is the starting node tag\n",
    "void initList(Node *head, const int N, const int start) {\n",
    "    Node *curr = head;\n",
    "    for (int i = 0; i < N; ++i) {\n",
    "        curr->next = newNode(i+start); // call our newNode function\n",
    "        curr = curr->next;\n",
    "    }\n",
    "    // important, mark the ending node as null\n",
    "    curr->next = nullptr;\n",
    "}"
   ]
  },
  {
   "cell_type": "code",
   "execution_count": null,
   "metadata": {},
   "outputs": [],
   "source": [
    "// function 3\n",
    "// print a forward linked list\n",
    "// head is the head node\n",
    "void printList(const Node *head) {\n",
    "    // constant because we will not modify head\n",
    "    const Node *curr = head;\n",
    "    while (curr != nullptr) {\n",
    "        std::cout << \"node:[\" << curr->tag << \"]\\n\";\n",
    "        curr = curr->next;\n",
    "    }\n",
    "}"
   ]
  },
  {
   "cell_type": "code",
   "execution_count": null,
   "metadata": {},
   "outputs": [],
   "source": [
    "// function 4\n",
    "// insert a node\n",
    "// head is the head node\n",
    "// n is the n-th node, we will insert a node between n and n+1\n",
    "// tag the tag value of the new node\n",
    "// return true if seccussfully inserted, false ow\n",
    "bool insert(Node *head, const int n, const int tag) {\n",
    "    Node *curr = head;\n",
    "    bool found = true;\n",
    "    for (int i = 0; i < n; ++i) {\n",
    "        // if the next node is still null, which means we cannot\n",
    "        // move anymore thus n is too large.\n",
    "        if (curr->next == nullptr) {\n",
    "            found = false;\n",
    "            break;\n",
    "        }\n",
    "        // advance curr\n",
    "        curr = curr->next;\n",
    "    }\n",
    "    // if we don't find a node, directly return\n",
    "    if (!found) return false;\n",
    "    \n",
    "    // safe to do the insertion\n",
    "    Node *bak = curr->next;\n",
    "    curr->next = newNode(tag);\n",
    "    curr = curr->next;\n",
    "    curr->next = bak;\n",
    "    \n",
    "    return true;\n",
    "}"
   ]
  },
  {
   "cell_type": "code",
   "execution_count": null,
   "metadata": {},
   "outputs": [],
   "source": [
    "// function 5\n",
    "// finalize function\n",
    "// head is the head node\n",
    "// recall our algorithm to free a link list\n",
    "void freeList(Node *head) {\n",
    "    Node *curr = head;\n",
    "    while (head != nullptr) {\n",
    "        curr = curr->next;\n",
    "        std::cout << \"deleting node:[\" << head->tag << \"]\\n\";\n",
    "        // we delete head\n",
    "        delete head;\n",
    "    \n",
    "        // head now is not valid, in order to delete it in next\n",
    "        // iteration, we need to move it\n",
    "        head = curr;\n",
    "    }\n",
    "}"
   ]
  },
  {
   "cell_type": "markdown",
   "metadata": {},
   "source": [
    "Now, let's play with our linked list functions."
   ]
  },
  {
   "cell_type": "code",
   "execution_count": null,
   "metadata": {},
   "outputs": [],
   "source": [
    "Node *head = nullptr;"
   ]
  },
  {
   "cell_type": "code",
   "execution_count": null,
   "metadata": {},
   "outputs": [],
   "source": [
    "head = newNode(0); // create head node"
   ]
  },
  {
   "cell_type": "code",
   "execution_count": null,
   "metadata": {},
   "outputs": [],
   "source": [
    "// create a head node with 20 more nodes\n",
    "initList(head, 20, 1);"
   ]
  },
  {
   "cell_type": "code",
   "execution_count": null,
   "metadata": {},
   "outputs": [],
   "source": [
    "// show\n",
    "printList(head);"
   ]
  },
  {
   "cell_type": "code",
   "execution_count": null,
   "metadata": {},
   "outputs": [],
   "source": [
    "// insert at 0\n",
    "if (!insert(head, 0, 21)) {\n",
    "    std::cerr << \"counld not insert at 0\\n\";\n",
    "}"
   ]
  },
  {
   "cell_type": "code",
   "execution_count": null,
   "metadata": {},
   "outputs": [],
   "source": [
    "printList(head);"
   ]
  },
  {
   "cell_type": "code",
   "execution_count": null,
   "metadata": {},
   "outputs": [],
   "source": [
    "// insert at end\n",
    "if (!insert(head, 21, 23)) {\n",
    "    std::cerr << \"counld not insert at 21\\n\";\n",
    "}"
   ]
  },
  {
   "cell_type": "code",
   "execution_count": null,
   "metadata": {},
   "outputs": [],
   "source": [
    "printList(head);"
   ]
  },
  {
   "cell_type": "code",
   "execution_count": null,
   "metadata": {},
   "outputs": [],
   "source": [
    "// insert at an invalid position\n",
    "if (!insert(head, 210, 24)) {\n",
    "    std::cerr << \"counld not insert at 210\\n\";\n",
    "}"
   ]
  },
  {
   "cell_type": "code",
   "execution_count": null,
   "metadata": {},
   "outputs": [],
   "source": [
    "// free list\n",
    "freeList(head);"
   ]
  }
 ],
 "metadata": {
  "kernelspec": {
   "display_name": "C++11",
   "language": "C++11",
   "name": "xeus-cling-cpp11"
  },
  "language_info": {
   "codemirror_mode": "text/x-c++src",
   "file_extension": ".cpp",
   "mimetype": "text/x-c++src",
   "name": "c++",
   "version": "-std=c++11"
  }
 },
 "nbformat": 4,
 "nbformat_minor": 2
}
