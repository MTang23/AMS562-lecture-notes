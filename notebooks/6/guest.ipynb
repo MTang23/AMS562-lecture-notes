{
 "cells": [
  {
   "cell_type": "markdown",
   "metadata": {},
   "source": [
    "# `Guest` Example for Inheritance #"
   ]
  },
  {
   "cell_type": "code",
   "execution_count": 1,
   "metadata": {},
   "outputs": [],
   "source": [
    "#include <iostream>\n",
    "#include <string>"
   ]
  },
  {
   "cell_type": "code",
   "execution_count": 2,
   "metadata": {},
   "outputs": [],
   "source": [
    "// create our base Guest type\n",
    "class Guest {\n",
    "public:\n",
    "    Guest(const std::string &name,\n",
    "          const int nights) :\n",
    "        _name(name),\n",
    "        _nights(nights),\n",
    "        _pri1(150.0f),\n",
    "        _pri2(20.0f) {\n",
    "        _type = \"normal\";\n",
    "    }\n",
    "\n",
    "    // get name\n",
    "    const std::string &name() const { return _name; }\n",
    "\n",
    "    // get how many nights this person has stayed\n",
    "    int nights() const { return _nights; }\n",
    "\n",
    "    // compute bill\n",
    "    float compute_bill() const { return (_pri1+_pri2)*_nights; }\n",
    "\n",
    "    const std::string &type() const { return _type; }\n",
    "private:\n",
    "    std::string _name;\n",
    "protected:\n",
    "    std::string _type; // customer type\n",
    "    int _nights; // how many nights\n",
    "    float _pri1; // cost per day\n",
    "    float _pri2; // cost per meal\n",
    "};"
   ]
  },
  {
   "cell_type": "code",
   "execution_count": 3,
   "metadata": {},
   "outputs": [
    {
     "name": "stdout",
     "output_type": "stream",
     "text": [
      "cost for g1 is $1700"
     ]
    }
   ],
   "source": [
    "Guest g1 (\"Foo Bar\", 10);\n",
    "std::cout << \"cost for g1 is $\" << g1.compute_bill();"
   ]
  },
  {
   "cell_type": "markdown",
   "metadata": {},
   "source": [
    "## For special guests, i.e. `VIP`s ##"
   ]
  },
  {
   "cell_type": "code",
   "execution_count": 4,
   "metadata": {},
   "outputs": [],
   "source": [
    "class VIP : public Guest {\n",
    "public:\n",
    "    // call guest constructor in initializer list\n",
    "    VIP(const std::string &name, const int nights) :\n",
    "        Guest(name, nights) {\n",
    "        // now pri1 = 150 and pri2 = 20\n",
    "        // change them to the right ones for vip\n",
    "        _pri1 = 120.0f;\n",
    "        _pri2 = 10.0f;\n",
    "        _type = \"vip\";\n",
    "    }\n",
    "};"
   ]
  },
  {
   "cell_type": "code",
   "execution_count": 5,
   "metadata": {},
   "outputs": [
    {
     "name": "stdout",
     "output_type": "stream",
     "text": [
      "cost for g2 is $1300"
     ]
    }
   ],
   "source": [
    "VIP g2 (\"Spam Eggs\", 10);\n",
    "std::cout << \"cost for g2 is $\" << g2.compute_bill();"
   ]
  }
 ],
 "metadata": {
  "kernelspec": {
   "display_name": "C++11",
   "language": "C++11",
   "name": "xeus-cling-cpp11"
  },
  "language_info": {
   "codemirror_mode": "text/x-c++src",
   "file_extension": ".cpp",
   "mimetype": "text/x-c++src",
   "name": "c++",
   "version": "-std=c++11"
  },
  "latex_envs": {
   "LaTeX_envs_menu_present": true,
   "autoclose": false,
   "autocomplete": true,
   "bibliofile": "biblio.bib",
   "cite_by": "apalike",
   "current_citInitial": 1,
   "eqLabelWithNumbers": true,
   "eqNumInitial": 1,
   "hotkeys": {
    "equation": "Ctrl-E",
    "itemize": "Ctrl-I"
   },
   "labels_anchors": false,
   "latex_user_defs": false,
   "report_style_numbering": false,
   "user_envs_cfg": false
  }
 },
 "nbformat": 4,
 "nbformat_minor": 2
}
