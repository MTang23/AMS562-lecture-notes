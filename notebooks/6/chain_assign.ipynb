{
 "cells": [
  {
   "cell_type": "markdown",
   "metadata": {},
   "source": [
    "# Different fashiones of Assignments #"
   ]
  },
  {
   "cell_type": "code",
   "execution_count": 1,
   "metadata": {},
   "outputs": [],
   "source": [
    "#include <iostream>"
   ]
  },
  {
   "cell_type": "code",
   "execution_count": 2,
   "metadata": {},
   "outputs": [],
   "source": [
    "class Obj1 {\n",
    "    public:\n",
    "    // return void, if we don't want\n",
    "    // handle input argument, omit it\n",
    "    void operator=(const Obj1 &) {}\n",
    "    void operator+=(const Obj1 &) {}\n",
    "};"
   ]
  },
  {
   "cell_type": "code",
   "execution_count": 4,
   "metadata": {},
   "outputs": [],
   "source": [
    "Obj1 a1, b1, c1;"
   ]
  },
  {
   "cell_type": "code",
   "execution_count": 5,
   "metadata": {},
   "outputs": [],
   "source": [
    "// no problem for the followings\n",
    "a1 = b1;\n",
    "a1 += c1;"
   ]
  },
  {
   "cell_type": "code",
   "execution_count": 6,
   "metadata": {},
   "outputs": [
    {
     "name": "stderr",
     "output_type": "stream",
     "text": [
      "\u001b[1minput_line_12:3:4: \u001b[0m\u001b[0;1;31merror: \u001b[0m\u001b[1mno viable overloaded '='\u001b[0m\n",
      "a1 = b1 = c1;\n",
      "\u001b[0;1;32m~~ ^ ~~~~~~~\n",
      "\u001b[0m\u001b[1minput_line_8:5:10: \u001b[0m\u001b[0;1;30mnote: \u001b[0mcandidate function not viable: cannot convert argument of incomplete type 'void' to 'const Obj1' for 1st argument\u001b[0m\n",
      "    void operator=(const Obj1 &) {}\n",
      "\u001b[0;1;32m         ^\n",
      "\u001b[0m"
     ]
    },
    {
     "ename": "Interpreter Error",
     "evalue": "",
     "output_type": "error",
     "traceback": [
      "Interpreter Error: "
     ]
    }
   ],
   "source": [
    "// the followings are not allowed\n",
    "a1 = b1 = c1;"
   ]
  },
  {
   "cell_type": "code",
   "execution_count": 7,
   "metadata": {},
   "outputs": [
    {
     "name": "stderr",
     "output_type": "stream",
     "text": [
      "\u001b[1minput_line_13:2:5: \u001b[0m\u001b[0;1;31merror: \u001b[0m\u001b[1mno viable overloaded '+='\u001b[0m\n",
      " a1 += b1 += c1;\n",
      "\u001b[0;1;32m ~~ ^  ~~~~~~~~\n",
      "\u001b[0m\u001b[1minput_line_8:6:10: \u001b[0m\u001b[0;1;30mnote: \u001b[0mcandidate function not viable: cannot convert argument of incomplete type 'void' to 'const Obj1' for 1st argument\u001b[0m\n",
      "    void operator+=(const Obj1 &) {}\n",
      "\u001b[0;1;32m         ^\n",
      "\u001b[0m"
     ]
    },
    {
     "ename": "Interpreter Error",
     "evalue": "",
     "output_type": "error",
     "traceback": [
      "Interpreter Error: "
     ]
    }
   ],
   "source": [
    "a1 += b1 += c1;"
   ]
  },
  {
   "cell_type": "code",
   "execution_count": 8,
   "metadata": {},
   "outputs": [],
   "source": [
    "// enable the chain reaction\n",
    "class Obj2 {\n",
    "    public:\n",
    "    Obj2 &operator=(const Obj2 &) {\n",
    "        return *this; // return myself as reference\n",
    "    }\n",
    "    Obj2 &operator+=(const Obj2 &) {\n",
    "        return *this;\n",
    "    }\n",
    "};"
   ]
  },
  {
   "cell_type": "code",
   "execution_count": 9,
   "metadata": {},
   "outputs": [],
   "source": [
    "Obj2 a2, b2, c2;"
   ]
  },
  {
   "cell_type": "code",
   "execution_count": 10,
   "metadata": {},
   "outputs": [],
   "source": [
    "a2 = b2 = c2;"
   ]
  },
  {
   "cell_type": "code",
   "execution_count": 11,
   "metadata": {},
   "outputs": [],
   "source": [
    "a2 += b2 += c2;"
   ]
  }
 ],
 "metadata": {
  "kernelspec": {
   "display_name": "C++11",
   "language": "C++11",
   "name": "xeus-cling-cpp11"
  },
  "language_info": {
   "codemirror_mode": "text/x-c++src",
   "file_extension": ".cpp",
   "mimetype": "text/x-c++src",
   "name": "c++",
   "version": "-std=c++11"
  },
  "latex_envs": {
   "LaTeX_envs_menu_present": true,
   "autoclose": false,
   "autocomplete": true,
   "bibliofile": "biblio.bib",
   "cite_by": "apalike",
   "current_citInitial": 1,
   "eqLabelWithNumbers": true,
   "eqNumInitial": 1,
   "hotkeys": {
    "equation": "Ctrl-E",
    "itemize": "Ctrl-I"
   },
   "labels_anchors": false,
   "latex_user_defs": false,
   "report_style_numbering": false,
   "user_envs_cfg": false
  }
 },
 "nbformat": 4,
 "nbformat_minor": 2
}
