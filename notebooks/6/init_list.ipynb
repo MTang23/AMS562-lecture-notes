{
 "cells": [
  {
   "cell_type": "markdown",
   "metadata": {},
   "source": [
    "# Initializer List #"
   ]
  },
  {
   "cell_type": "code",
   "execution_count": 1,
   "metadata": {},
   "outputs": [],
   "source": [
    "#include <iostream>"
   ]
  },
  {
   "cell_type": "code",
   "execution_count": 2,
   "metadata": {},
   "outputs": [],
   "source": [
    "// define a class with different constructors\n",
    "// by printing different messages\n",
    "class Object {\n",
    "    public:\n",
    "        Object() {\n",
    "            std::cout << \"default constructor\\n\";\n",
    "        }\n",
    "        Object(int a) {\n",
    "            std::cout << \"constructor with a=\" << a << '\\n';\n",
    "        }\n",
    "        Object(const std::string &str) {\n",
    "            std::cout << \"constructor with str: \" << str << '\\n';\n",
    "        }\n",
    "    };"
   ]
  },
  {
   "cell_type": "code",
   "execution_count": 3,
   "metadata": {},
   "outputs": [],
   "source": [
    "// now a family of objects that hold an object instance\n",
    "class Holder1 {\n",
    "    public:\n",
    "        Holder1() {}\n",
    "    private:\n",
    "        Object _obj;\n",
    "    };\n",
    "\n",
    "    // holder2 defines _obj with another constructor\n",
    "    class Holder2 {\n",
    "    public:\n",
    "        Holder2() : _obj(1) {}\n",
    "    private:\n",
    "        Object _obj;\n",
    "    };\n",
    "\n",
    "    // holder3 defines _obj with the string constructor\n",
    "    class Holder3 {\n",
    "    public:\n",
    "        Holder3() : _obj(\"ams562\") {}\n",
    "    private:\n",
    "        Object _obj;\n",
    "    };"
   ]
  },
  {
   "cell_type": "code",
   "execution_count": 4,
   "metadata": {},
   "outputs": [
    {
     "name": "stdout",
     "output_type": "stream",
     "text": [
      "default constructor\n"
     ]
    }
   ],
   "source": [
    "Holder1 h1;"
   ]
  },
  {
   "cell_type": "code",
   "execution_count": 5,
   "metadata": {},
   "outputs": [
    {
     "name": "stdout",
     "output_type": "stream",
     "text": [
      "constructor with a=1\n"
     ]
    }
   ],
   "source": [
    "Holder2 h2;"
   ]
  },
  {
   "cell_type": "code",
   "execution_count": 6,
   "metadata": {},
   "outputs": [
    {
     "name": "stdout",
     "output_type": "stream",
     "text": [
      "constructor with str: ams562\n"
     ]
    }
   ],
   "source": [
    "Holder3 h3;"
   ]
  },
  {
   "cell_type": "markdown",
   "metadata": {},
   "source": [
    "As you can see, the `initializer list` allows to construct data attributes with no only default constructor and this is extremely important, because, in practice, the default constructors may **NOT** be available."
   ]
  }
 ],
 "metadata": {
  "kernelspec": {
   "display_name": "C++11",
   "language": "C++11",
   "name": "xeus-cling-cpp11"
  },
  "language_info": {
   "codemirror_mode": "text/x-c++src",
   "file_extension": ".cpp",
   "mimetype": "text/x-c++src",
   "name": "c++",
   "version": "-std=c++11"
  },
  "latex_envs": {
   "LaTeX_envs_menu_present": true,
   "autoclose": false,
   "autocomplete": true,
   "bibliofile": "biblio.bib",
   "cite_by": "apalike",
   "current_citInitial": 1,
   "eqLabelWithNumbers": true,
   "eqNumInitial": 1,
   "hotkeys": {
    "equation": "Ctrl-E",
    "itemize": "Ctrl-I"
   },
   "labels_anchors": false,
   "latex_user_defs": false,
   "report_style_numbering": false,
   "user_envs_cfg": false
  }
 },
 "nbformat": 4,
 "nbformat_minor": 2
}
