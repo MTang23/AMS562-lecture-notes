{
 "cells": [
  {
   "cell_type": "markdown",
   "metadata": {},
   "source": [
    "# The `ComplexNumber` Class #"
   ]
  },
  {
   "cell_type": "code",
   "execution_count": 1,
   "metadata": {},
   "outputs": [],
   "source": [
    "#include <iostream>\n",
    "#include <cmath>"
   ]
  },
  {
   "cell_type": "code",
   "execution_count": 2,
   "metadata": {},
   "outputs": [],
   "source": [
    "class ComplexNumber {\n",
    "public:\n",
    "    ComplexNumber() {\n",
    "        _real = 0.0;\n",
    "        _imag = 0.0;\n",
    "    }\n",
    "    \n",
    "    // constructor with two doubles, note that we don't\n",
    "    // mark explicit, so that double can be converted to ComplexNumber\n",
    "    ComplexNumber(double real, double imag = 0.0) {\n",
    "        _real = real;\n",
    "        _imag = imag;\n",
    "    }\n",
    "    // implement a helper function for printing\n",
    "    void print() const {\n",
    "        std::cout << \"real=\" << _real << \", imag=\" << _imag << '\\n';\n",
    "    }\n",
    "    \n",
    "    // real returns the normal reference to _real\n",
    "    double &real() { return _real; }\n",
    "    // this one is overloaded to return a copy of real\n",
    "    double real() const { return _real; }\n",
    "\n",
    "    // similarly for imag\n",
    "    double &imag() { return _imag; }\n",
    "    double imag() const { return _imag; }\n",
    "    \n",
    "    // make a copy\n",
    "    // because we won't modify this, make it constant\n",
    "    ComplexNumber copy() const {\n",
    "        // what is the type of *this? and what constructor is called?\n",
    "        ComplexNumber tmp(*this);\n",
    "        return tmp;\n",
    "        // or return *this; // do you get it?\n",
    "    }\n",
    "    \n",
    "    // copy other values, no constant qualifier\n",
    "    void copy(const ComplexNumber &other) {\n",
    "        _real = other._real;\n",
    "        _imag = other._imag;\n",
    "    }\n",
    "    \n",
    "    // modulus, require <cmath>\n",
    "    double modulus() const {\n",
    "        return std::sqrt(_real*_real+_imag*_imag);\n",
    "    }\n",
    "    // conjugate\n",
    "    ComplexNumber conj() const {\n",
    "        return ComplexNumber(_real, -_imag);\n",
    "    }\n",
    "    \n",
    "    // add, i.e. this+rhs\n",
    "    ComplexNumber add(const ComplexNumber &rhs) const {\n",
    "        return ComplexNumber(_real+rhs.real(), _imag+rhs.imag());\n",
    "    }\n",
    "    // subtract, i.e. this-rhs\n",
    "    ComplexNumber sub(const ComplexNumber &rhs) const {\n",
    "        return ComplexNumber(_real-rhs.real(), _imag-rhs.imag());\n",
    "    }\n",
    "private:\n",
    "    double _real, _imag; // real and imaginary parts\n",
    "};"
   ]
  },
  {
   "cell_type": "code",
   "execution_count": 3,
   "metadata": {},
   "outputs": [
    {
     "name": "stdout",
     "output_type": "stream",
     "text": [
      "real=2imag=-1"
     ]
    }
   ],
   "source": [
    "ComplexNumber a(1.0, 1.0);\n",
    "// which real/imag are called?\n",
    "a.real() = 2.0;\n",
    "a.imag() = -1.0;\n",
    "// what about the following two?\n",
    "std::cout << \"real=\" << a.real();\n",
    "std::cout << \"imag=\" << a.imag();"
   ]
  },
  {
   "cell_type": "code",
   "execution_count": 4,
   "metadata": {},
   "outputs": [
    {
     "name": "stdout",
     "output_type": "stream",
     "text": [
      "real=2, imag=-1\n"
     ]
    }
   ],
   "source": [
    "ComplexNumber b;\n",
    "// copy a into b\n",
    "b.copy(a);\n",
    "b.print();"
   ]
  },
  {
   "cell_type": "code",
   "execution_count": 5,
   "metadata": {},
   "outputs": [
    {
     "name": "stdout",
     "output_type": "stream",
     "text": [
      "mod(a)=2.23607"
     ]
    }
   ],
   "source": [
    "std::cout << \"mod(a)=\" << a.modulus();"
   ]
  },
  {
   "cell_type": "code",
   "execution_count": 6,
   "metadata": {},
   "outputs": [
    {
     "name": "stdout",
     "output_type": "stream",
     "text": [
      "conj(b).real()=2, conj(b).imag()=1"
     ]
    }
   ],
   "source": [
    "std::cout << \"conj(b).real()=\" << b.conj().real() << \", conj(b).imag()=\" << b.conj().imag();"
   ]
  },
  {
   "cell_type": "code",
   "execution_count": 7,
   "metadata": {},
   "outputs": [
    {
     "name": "stdout",
     "output_type": "stream",
     "text": [
      "real=3, imag=-1\n",
      "real=4, imag=0\n",
      "real=1, imag=-1\n"
     ]
    }
   ],
   "source": [
    "ComplexNumber z1(1.0); // what is z1.imag()?\n",
    "ComplexNumber z2(2.0, -1.0);\n",
    "\n",
    "// tmp vars can call constant member functions\n",
    "\n",
    "// what is the value?\n",
    "z1.add(z2).print();\n",
    "\n",
    "// can we do this? answer: yes, but why?\n",
    "z1.add(3.0).print();\n",
    "\n",
    "z2.sub(z1).print(); // what about this?"
   ]
  }
 ],
 "metadata": {
  "kernelspec": {
   "display_name": "C++11",
   "language": "C++11",
   "name": "xeus-cling-cpp11"
  },
  "language_info": {
   "codemirror_mode": "text/x-c++src",
   "file_extension": ".cpp",
   "mimetype": "text/x-c++src",
   "name": "c++",
   "version": "-std=c++11"
  },
  "latex_envs": {
   "LaTeX_envs_menu_present": true,
   "autoclose": false,
   "autocomplete": true,
   "bibliofile": "biblio.bib",
   "cite_by": "apalike",
   "current_citInitial": 1,
   "eqLabelWithNumbers": true,
   "eqNumInitial": 1,
   "hotkeys": {
    "equation": "Ctrl-E",
    "itemize": "Ctrl-I"
   },
   "labels_anchors": false,
   "latex_user_defs": false,
   "report_style_numbering": false,
   "user_envs_cfg": false
  }
 },
 "nbformat": 4,
 "nbformat_minor": 2
}
