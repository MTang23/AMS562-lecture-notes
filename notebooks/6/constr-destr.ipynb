{
 "cells": [
  {
   "cell_type": "markdown",
   "metadata": {},
   "source": [
    "# Demo For Understanding Constructors&Destructors #"
   ]
  },
  {
   "cell_type": "code",
   "execution_count": 1,
   "metadata": {},
   "outputs": [],
   "source": [
    "#include <iostream>"
   ]
  },
  {
   "cell_type": "code",
   "execution_count": 2,
   "metadata": {},
   "outputs": [],
   "source": [
    "class Con_De_str {\n",
    "    public:\n",
    "    // overwrite default constructor\n",
    "    Con_De_str() {\n",
    "        std::cout << \"default constructor called\\n\";\n",
    "    }\n",
    "\n",
    "    // overwrite default copy constructor\n",
    "    Con_De_str(const Con_De_str &other) {\n",
    "        std::cout << \"copy constructor called\\n\";\n",
    "    }\n",
    "    \n",
    "    // overwrite default destructor\n",
    "    ~Con_De_str() {\n",
    "        std::cout << \"destructor called\\n\";\n",
    "    }\n",
    "};"
   ]
  },
  {
   "cell_type": "code",
   "execution_count": 3,
   "metadata": {},
   "outputs": [
    {
     "name": "stdout",
     "output_type": "stream",
     "text": [
      "default constructor called\n",
      "copy constructor called\n",
      "destructor called\n",
      "destructor called\n"
     ]
    }
   ],
   "source": [
    "// create a scope so that desctructor is called in the notebook\n",
    "{\n",
    "    Con_De_str a;     // default constr called\n",
    "    Con_De_str b(a);  // copy called\n",
    "} // destructor called"
   ]
  },
  {
   "cell_type": "code",
   "execution_count": 7,
   "metadata": {},
   "outputs": [],
   "source": [
    "// IMPORTANT, understanding PBV and PBR\n",
    "void pbv(Con_De_str copy) {}"
   ]
  },
  {
   "cell_type": "code",
   "execution_count": 5,
   "metadata": {},
   "outputs": [],
   "source": [
    "void pbr(const Con_De_str &ref) {}"
   ]
  },
  {
   "cell_type": "code",
   "execution_count": 8,
   "metadata": {},
   "outputs": [
    {
     "name": "stdout",
     "output_type": "stream",
     "text": [
      "default constructor called\n"
     ]
    }
   ],
   "source": [
    "// create a token\n",
    "Con_De_str token;"
   ]
  },
  {
   "cell_type": "code",
   "execution_count": 9,
   "metadata": {},
   "outputs": [
    {
     "name": "stdout",
     "output_type": "stream",
     "text": [
      "copy constructor called\n",
      "destructor called\n"
     ]
    }
   ],
   "source": [
    "// call pbv\n",
    "pbv(token);"
   ]
  },
  {
   "cell_type": "code",
   "execution_count": 10,
   "metadata": {},
   "outputs": [],
   "source": [
    "// call pbr\n",
    "pbr(token);"
   ]
  }
 ],
 "metadata": {
  "kernelspec": {
   "display_name": "C++11",
   "language": "C++11",
   "name": "xeus-cling-cpp11"
  },
  "language_info": {
   "codemirror_mode": "text/x-c++src",
   "file_extension": ".cpp",
   "mimetype": "text/x-c++src",
   "name": "c++",
   "version": "-std=c++11"
  },
  "latex_envs": {
   "LaTeX_envs_menu_present": true,
   "autoclose": false,
   "autocomplete": true,
   "bibliofile": "biblio.bib",
   "cite_by": "apalike",
   "current_citInitial": 1,
   "eqLabelWithNumbers": true,
   "eqNumInitial": 1,
   "hotkeys": {
    "equation": "Ctrl-E",
    "itemize": "Ctrl-I"
   },
   "labels_anchors": false,
   "latex_user_defs": false,
   "report_style_numbering": false,
   "user_envs_cfg": false
  }
 },
 "nbformat": 4,
 "nbformat_minor": 2
}
