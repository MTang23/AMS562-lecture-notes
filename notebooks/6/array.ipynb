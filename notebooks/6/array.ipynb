{
 "cells": [
  {
   "cell_type": "markdown",
   "metadata": {
    "collapsed": true
   },
   "source": [
    "# The `Array` Interface #"
   ]
  },
  {
   "cell_type": "code",
   "execution_count": 1,
   "metadata": {},
   "outputs": [],
   "source": [
    "class Array {\n",
    "public:\n",
    "    // default constructor\n",
    "    // overwrite this one to set data and size to\n",
    "    // empty status\n",
    "    Array();\n",
    "    \n",
    "    // copy constructor\n",
    "    // we want to perform a deep copy so that\n",
    "    // each copied Array will own its own\n",
    "    // data and copies the values of other\n",
    "    // hint: you need a for/while loop here\n",
    "    Array(const Array& other);\n",
    "    \n",
    "    // constructor with array size and (optionally)\n",
    "    // the default initialization value\n",
    "    explicit Array(unsigned n, double v = 0.0);\n",
    "    \n",
    "    // we want to overwrite the destructor\n",
    "    // so that the memory is freed!\n",
    "    ~Array();\n",
    "    \n",
    "    // get the length of array\n",
    "    unsigned size() const;\n",
    "    \n",
    "    // get the data pointer of array\n",
    "    double *data();\n",
    "    \n",
    "    // get read-only pointer of array\n",
    "    const double *data() const;\n",
    "    \n",
    "    // given a rhs Array, copy its value\n",
    "    // make sure the sizes are same\n",
    "    void copy(const Array& rhs);\n",
    "    \n",
    "    // reference entry \"index\" of the data\n",
    "    double &at(unsigned index);\n",
    "    \n",
    "    // read-only reference entry \"index\" of the data\n",
    "    const double &at(unsigned index) const;\n",
    "    \n",
    "    // resize the array\n",
    "    // require memory allocation and deallocation\n",
    "    // prsv is a flag that indicates if the user\n",
    "    // wants to preserve the old values\n",
    "    //\n",
    "    // pseudo code:\n",
    "    //   create new_data (dynamically) with size new_size\n",
    "    //   if presv:\n",
    "    //      copy _data to new_data with size = min(new_size, _size)\n",
    "    //   free the old memory (_data)\n",
    "    //   copy new_data pointer to _data\n",
    "    void resize(unsigned new_size, bool prsv=true);\n",
    "    \n",
    "    // some math functions\n",
    "    // L-2 norm, sum, maximum/minimum, and dot (inner) products\n",
    "    double norm() const;\n",
    "    double sum() const;\n",
    "    double max() const;\n",
    "    double min() const;\n",
    "    double dot(const Array&rhs) const;\n",
    "    \n",
    "    // addition: this+rhs, return a new array\n",
    "    Array add(const Array&rhs) const;\n",
    "    \n",
    "    // subtraction: this-rhs, return a new array\n",
    "    Array sub(const Array&rhs) const;\n",
    "    \n",
    "    // do some terminal printing\n",
    "    void print() const;\n",
    "private:\n",
    "    double *_data;\n",
    "    unsigned _size;\n",
    "};"
   ]
  }
 ],
 "metadata": {
  "kernelspec": {
   "display_name": "C++11",
   "language": "C++11",
   "name": "xeus-cling-cpp11"
  },
  "language_info": {
   "codemirror_mode": "text/x-c++src",
   "file_extension": ".cpp",
   "mimetype": "text/x-c++src",
   "name": "c++",
   "version": "-std=c++11"
  },
  "latex_envs": {
   "LaTeX_envs_menu_present": true,
   "autoclose": false,
   "autocomplete": true,
   "bibliofile": "biblio.bib",
   "cite_by": "apalike",
   "current_citInitial": 1,
   "eqLabelWithNumbers": true,
   "eqNumInitial": 1,
   "hotkeys": {
    "equation": "Ctrl-E",
    "itemize": "Ctrl-I"
   },
   "labels_anchors": false,
   "latex_user_defs": false,
   "report_style_numbering": false,
   "user_envs_cfg": false
  }
 },
 "nbformat": 4,
 "nbformat_minor": 2
}
